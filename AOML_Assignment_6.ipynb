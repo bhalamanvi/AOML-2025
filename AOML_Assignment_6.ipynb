{
  "nbformat": 4,
  "nbformat_minor": 0,
  "metadata": {
    "colab": {
      "provenance": [],
      "gpuType": "T4"
    },
    "kernelspec": {
      "name": "python3",
      "display_name": "Python 3"
    },
    "language_info": {
      "name": "python"
    },
    "accelerator": "GPU"
  },
  "cells": [
    {
      "cell_type": "code",
      "execution_count": null,
      "metadata": {
        "id": "DHvICJDPK2RN"
      },
      "outputs": [],
      "source": [
        "import pandas as pd\n",
        "import numpy as np\n",
        "from sklearn.svm import SVC\n",
        "from sklearn.model_selection import train_test_split, GridSearchCV\n",
        "from sklearn.preprocessing import StandardScaler\n",
        "from sklearn.metrics import accuracy_score\n",
        "\n",
        "train_df = pd.read_csv('fashion-mnist_train.csv')\n",
        "test_df = pd.read_csv('fashion-mnist_test.csv')"
      ]
    },
    {
      "cell_type": "code",
      "source": [
        "train_df.drop_duplicates(inplace=True)\n",
        "test_df.drop_duplicates(inplace=True)\n",
        "\n",
        "train_df.fillna(train_df.mean(), inplace=True)\n",
        "test_df.fillna(test_df.mean(), inplace=True)"
      ],
      "metadata": {
        "id": "KeBJe3X3tsx5"
      },
      "execution_count": null,
      "outputs": []
    },
    {
      "cell_type": "code",
      "source": [
        "X_train = train_df.iloc[:, 1:].values\n",
        "y_train = train_df.iloc[:, 0].values\n",
        "X_test = test_df.iloc[:, 1:].values\n",
        "y_test = test_df.iloc[:, 0].values\n",
        "\n",
        "scaler = StandardScaler()\n",
        "X_train = scaler.fit_transform(X_train)\n",
        "X_test = scaler.transform(X_test)"
      ],
      "metadata": {
        "id": "30OwsIcSzaPk"
      },
      "execution_count": null,
      "outputs": []
    },
    {
      "cell_type": "code",
      "source": [
        "linear_params = {'C': [0.1, 1, 10]}\n",
        "linear_svm = GridSearchCV(SVC(kernel='linear'), linear_params, cv=3)\n",
        "linear_svm.fit(X_train[10000:,], y_train[10000:,])\n",
        "print(\"Best C for Linear Kernel:\", linear_svm.best_params_)"
      ],
      "metadata": {
        "colab": {
          "base_uri": "https://localhost:8080/"
        },
        "id": "JDG9hyguMJRh",
        "outputId": "a656cb71-8e7e-458d-9b47-009ba0eac782"
      },
      "execution_count": null,
      "outputs": [
        {
          "output_type": "stream",
          "name": "stdout",
          "text": [
            "Best C for Linear Kernel: {'C': 0.1}\n"
          ]
        }
      ]
    },
    {
      "cell_type": "code",
      "source": [
        "poly_params = {'C': [0.1, 1, 10], 'degree': [2, 3, 4]}\n",
        "poly_svm = GridSearchCV(SVC(kernel='poly'), poly_params, cv=3)\n",
        "poly_svm.fit(X_train[10000:,], y_train[10000:,])\n",
        "print(\"Best params for Polynomial Kernel:\", poly_svm.best_params_)"
      ],
      "metadata": {
        "id": "91Ej2bBGTYNL",
        "colab": {
          "base_uri": "https://localhost:8080/"
        },
        "outputId": "d8ef04fb-1747-4c32-a221-e3a8429211bd"
      },
      "execution_count": null,
      "outputs": [
        {
          "output_type": "stream",
          "name": "stdout",
          "text": [
            "Best params for Polynomial Kernel: {'C': 10, 'degree': 2}\n"
          ]
        }
      ]
    },
    {
      "cell_type": "code",
      "source": [
        "rbf_params = {'C': [0.1, 1, 10], 'gamma': ['scale', 'auto', 0.01, 0.1, 1]}\n",
        "rbf_svm = GridSearchCV(SVC(kernel='rbf'), rbf_params, cv=3)\n",
        "rbf_svm.fit(X_train[10000:,], y_train[10000:,])\n",
        "print(\"Best params for RBF Kernel:\", rbf_svm.best_params_)\n"
      ],
      "metadata": {
        "id": "w0pi29aVTZX9",
        "colab": {
          "base_uri": "https://localhost:8080/"
        },
        "outputId": "5530ea34-fa46-43d2-bf80-4608646544cb"
      },
      "execution_count": null,
      "outputs": [
        {
          "output_type": "stream",
          "name": "stdout",
          "text": [
            "Best params for RBF Kernel: {'C': 10, 'gamma': 'auto'}\n"
          ]
        }
      ]
    },
    {
      "cell_type": "code",
      "source": [
        "best_linear_svm = linear_svm.best_estimator_\n",
        "best_poly_svm = poly_svm.best_estimator_\n",
        "best_rbf_svm = rbf_svm.best_estimator_\n",
        "\n",
        "print(\"Linear SVM Test Accuracy:\", accuracy_score(y_test, best_linear_svm.predict(X_test)))\n",
        "print(\"Polynomial SVM Test Accuracy:\", accuracy_score(y_test, best_poly_svm.predict(X_test)))\n",
        "print(\"RBF SVM Test Accuracy:\", accuracy_score(y_test, best_rbf_svm.predict(X_test)))"
      ],
      "metadata": {
        "id": "KEZalZ9_TcxQ",
        "colab": {
          "base_uri": "https://localhost:8080/"
        },
        "outputId": "db987781-c4fe-4b28-8d4a-03920208e6d2"
      },
      "execution_count": null,
      "outputs": [
        {
          "output_type": "stream",
          "name": "stdout",
          "text": [
            "Linear SVM Test Accuracy: 0.8393839383938394\n",
            "Polynomial SVM Test Accuracy: 0.8884888488848884\n",
            "RBF SVM Test Accuracy: 0.8917891789178918\n"
          ]
        }
      ]
    },
    {
      "cell_type": "code",
      "source": [],
      "metadata": {
        "id": "4bIkW_mPV10U"
      },
      "execution_count": null,
      "outputs": []
    }
  ]
}